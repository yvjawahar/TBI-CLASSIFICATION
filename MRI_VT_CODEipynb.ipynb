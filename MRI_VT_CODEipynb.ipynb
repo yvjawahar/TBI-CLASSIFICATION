{
  "cells": [
    {
      "cell_type": "code",
      "execution_count": null,
      "metadata": {
        "id": "4G2D9HrYtHUi"
      },
      "outputs": [],
      "source": [
        "# pip install -qq -U tensorflow-addons\n",
        "!pip install einops"
      ]
    },
    {
      "cell_type": "code",
      "execution_count": 2,
      "metadata": {
        "colab": {
          "base_uri": "https://localhost:8080/"
        },
        "id": "WuoQpNCAtbh8",
        "outputId": "f4c15407-7c6f-410b-a6f5-25fad3e0fe97"
      },
      "outputs": [
        {
          "name": "stdout",
          "output_type": "stream",
          "text": [
            "Mounted at /content/drive\n"
          ]
        }
      ],
      "source": [
        "from google.colab import drive\n",
        "drive.mount('/content/drive')"
      ]
    },
    {
      "cell_type": "code",
      "execution_count": 3,
      "metadata": {
        "id": "S4CLPeezt56f"
      },
      "outputs": [],
      "source": [
        "import os\n",
        "import math\n",
        "import numpy as np\n",
        "import matplotlib.pyplot as plt\n",
        "from random import random\n",
        "#vit libraries\n",
        "import torch\n",
        "from torchvision.transforms.functional import to_pil_image\n",
        "from torch.utils.data import ConcatDataset,Dataset\n",
        "from torchvision.transforms import Resize, ToTensor\n",
        "from einops import rearrange, reduce, repeat\n",
        "from PIL import Image"
      ]
    },
    {
      "cell_type": "code",
      "execution_count": 4,
      "metadata": {
        "colab": {
          "base_uri": "https://localhost:8080/"
        },
        "id": "J4xeL4J2uA2a",
        "outputId": "68ec2adf-10ec-43f3-9a08-897860c6d000"
      },
      "outputs": [
        {
          "name": "stdout",
          "output_type": "stream",
          "text": [
            "NON TBI FILES: 69\n",
            "TBI FILES: 72\n"
          ]
        }
      ],
      "source": [
        "NONTBI_folder = '/content/drive/MyDrive/NONTBI'\n",
        "TBI_folder = '/content/drive/MyDrive/TBI'\n",
        "NONTBI_names = sorted(os.listdir(NONTBI_folder))\n",
        "TBI_names = sorted(os.listdir(TBI_folder))\n",
        "print(\"NON TBI FILES:\",len(NONTBI_names))\n",
        "print(\"TBI FILES:\", len(TBI_names))"
      ]
    },
    {
      "cell_type": "code",
      "execution_count": 5,
      "metadata": {
        "id": "9PBzWMGruRy4"
      },
      "outputs": [],
      "source": [
        "class LazySignatureDataset(Dataset):\n",
        "    def __init__(self, file_paths, class_label, transform=None):\n",
        "        self.file_paths = file_paths\n",
        "        self.class_label = class_label\n",
        "        self.transform = transform\n",
        "\n",
        "    def __len__(self):\n",
        "        return len(self.file_paths)\n",
        "\n",
        "    def __getitem__(self, index):\n",
        "        img_path = self.file_paths[index]\n",
        "        label = self.class_label\n",
        "\n",
        "        # Load image only when needed\n",
        "        image = Image.open(img_path).convert(\"RGB\")\n",
        "\n",
        "        if self.transform:\n",
        "            image = self.transform(image)\n",
        "\n",
        "        return image, label\n",
        "    \n",
        "class GaussianBlur(object):\n",
        "    def __init__(self, radius=2):\n",
        "        self.radius = radius\n",
        "\n",
        "    def __call__(self, image):\n",
        "        return image.filter(ImageFilter.GaussianBlur(self.radius))\n",
        "\n",
        "class Compose(object):\n",
        "    def __init__(self, transforms):\n",
        "        self.transforms = transforms\n",
        "\n",
        "    def __call__(self, image):\n",
        "        for t in self.transforms:\n",
        "            image = t(image)\n",
        "        return image\n",
        "\n",
        "to_tensor = [Resize((244, 244)), ToTensor()]\n",
        "transform = Compose(to_tensor)\n",
        "\n",
        "# Use specific files from forgery_files and real_files\n",
        "TBI_files = ['/content/drive/MyDrive/TBI/' + file for file in TBI_names]\n",
        "NONTBI_files = ['/content/drive/MyDrive/NONTBI/' + file for file in NONTBI_names]\n",
        "\n",
        "# Create datasets using specific files\n",
        "dataset_NONTBI = LazySignatureDataset(NONTBI_files, class_label=0, transform=transform)\n",
        "dataset_TBI = LazySignatureDataset(TBI_files, class_label=1, transform=transform)"
      ]
    },
    {
      "cell_type": "code",
      "execution_count": 6,
      "metadata": {
        "colab": {
          "base_uri": "https://localhost:8080/"
        },
        "id": "ypTZrayxwHBR",
        "outputId": "e978c002-0614-4e03-f745-1f7aeeb66e7f"
      },
      "outputs": [
        {
          "name": "stdout",
          "output_type": "stream",
          "text": [
            "141\n"
          ]
        }
      ],
      "source": [
        "combined_dataset = ConcatDataset([dataset_NONTBI, dataset_TBI])\n",
        "print(len(combined_dataset))"
      ]
    },
    {
      "cell_type": "code",
      "execution_count": 7,
      "metadata": {
        "colab": {
          "base_uri": "https://localhost:8080/"
        },
        "id": "VpWzd1mPv9k1",
        "outputId": "50e8a6ed-f137-4f03-95ab-12ca8e70dc6f"
      },
      "outputs": [
        {
          "name": "stdout",
          "output_type": "stream",
          "text": [
            "Initial shape:  torch.Size([1, 3, 144, 144])\n",
            "Patches shape:  torch.Size([1, 324, 128])\n"
          ]
        }
      ],
      "source": [
        "from torch import nn\n",
        "from einops.layers.torch import Rearrange\n",
        "from torch import Tensor\n",
        "\n",
        "\n",
        "class PatchEmbedding(nn.Module):\n",
        "    def __init__(self, in_channels = 3, patch_size = 16, emb_size = 128):\n",
        "        self.patch_size = patch_size\n",
        "        super().__init__()\n",
        "        self.projection = nn.Sequential(\n",
        "            # break-down the image in s1 x s2 patches and flat them\n",
        "            Rearrange('b c (h p1) (w p2) -> b (h w) (p1 p2 c)', p1=patch_size, p2=patch_size),\n",
        "            nn.Linear(patch_size * patch_size * in_channels, emb_size)\n",
        "        )\n",
        "\n",
        "    def forward(self, x: Tensor) -> Tensor:\n",
        "        x = self.projection(x)\n",
        "        return x\n",
        "\n",
        "# Run a quick test\n",
        "sample_datapoint = torch.unsqueeze(combined_dataset[0][0], 0)\n",
        "print(\"Initial shape: \", sample_datapoint.shape)\n",
        "embedding = PatchEmbedding()(sample_datapoint)\n",
        "print(\"Patches shape: \", embedding.shape)"
      ]
    },
    {
      "cell_type": "code",
      "execution_count": 8,
      "metadata": {
        "id": "xbIFIu3fwAWf"
      },
      "outputs": [],
      "source": [
        "from einops import rearrange\n",
        "\n",
        "class Attention(nn.Module):\n",
        "    def __init__(self, dim, n_heads, dropout):\n",
        "        super().__init__()\n",
        "        self.n_heads = n_heads\n",
        "        self.att = torch.nn.MultiheadAttention(embed_dim=dim,\n",
        "                                               num_heads=n_heads,\n",
        "                                               dropout=dropout)\n",
        "        self.q = torch.nn.Linear(dim, dim)\n",
        "        self.k = torch.nn.Linear(dim, dim)\n",
        "        self.v = torch.nn.Linear(dim, dim)\n",
        "\n",
        "    def forward(self, x):\n",
        "        q = self.q(x)\n",
        "        k = self.k(x)\n",
        "        v = self.v(x)\n",
        "        attn_output, attn_output_weights = self.att(x, x, x)\n",
        "        return attn_output"
      ]
    },
    {
      "cell_type": "code",
      "execution_count": 9,
      "metadata": {
        "colab": {
          "base_uri": "https://localhost:8080/"
        },
        "id": "Bv0eNmpDwa1E",
        "outputId": "ce92221b-f562-4995-850a-2ae6d31ac374"
      },
      "outputs": [
        {
          "data": {
            "text/plain": [
              "torch.Size([1, 5, 128])"
            ]
          },
          "execution_count": 9,
          "metadata": {},
          "output_type": "execute_result"
        }
      ],
      "source": [
        "Attention(dim=128, n_heads=4, dropout=0.)(torch.ones((1, 5, 128))).shape"
      ]
    },
    {
      "cell_type": "code",
      "execution_count": 10,
      "metadata": {
        "id": "QlJouYeAwc7S"
      },
      "outputs": [],
      "source": [
        "class PreNorm(nn.Module):\n",
        "    def __init__(self, dim, fn):\n",
        "        super().__init__()\n",
        "        self.norm = nn.LayerNorm(dim)\n",
        "        self.fn = fn\n",
        "    def forward(self, x, **kwargs):\n",
        "        return self.fn(self.norm(x), **kwargs)"
      ]
    },
    {
      "cell_type": "code",
      "execution_count": 11,
      "metadata": {
        "colab": {
          "base_uri": "https://localhost:8080/"
        },
        "id": "jXLRNbTawefq",
        "outputId": "6874741f-ea5f-4fcf-e9e2-a2e794496757"
      },
      "outputs": [
        {
          "data": {
            "text/plain": [
              "torch.Size([1, 5, 128])"
            ]
          },
          "execution_count": 11,
          "metadata": {},
          "output_type": "execute_result"
        }
      ],
      "source": [
        "norm = PreNorm(128, Attention(dim=128, n_heads=4, dropout=0.))\n",
        "norm(torch.ones((1, 5, 128))).shape"
      ]
    },
    {
      "cell_type": "code",
      "execution_count": 12,
      "metadata": {
        "colab": {
          "base_uri": "https://localhost:8080/"
        },
        "id": "jChZBC5LwgOY",
        "outputId": "444c963a-9ecf-43ec-ec1e-d8ccf8ddcbe3"
      },
      "outputs": [
        {
          "data": {
            "text/plain": [
              "torch.Size([1, 5, 128])"
            ]
          },
          "execution_count": 12,
          "metadata": {},
          "output_type": "execute_result"
        }
      ],
      "source": [
        "class FeedForward(nn.Sequential):\n",
        "    def __init__(self, dim, hidden_dim, dropout = 0.):\n",
        "        super().__init__(\n",
        "            nn.Linear(dim, hidden_dim),\n",
        "            nn.GELU(),\n",
        "            nn.Dropout(dropout),\n",
        "            nn.Linear(hidden_dim, dim),\n",
        "            nn.Dropout(dropout)\n",
        "        )\n",
        "ff = FeedForward(dim=128, hidden_dim=256)\n",
        "ff(torch.ones((1, 5, 128))).shape"
      ]
    },
    {
      "cell_type": "code",
      "execution_count": 13,
      "metadata": {
        "id": "E-NPtmU-wiHC"
      },
      "outputs": [],
      "source": [
        "class ResidualAdd(nn.Module):\n",
        "    def __init__(self, fn):\n",
        "        super().__init__()\n",
        "        self.fn = fn\n",
        "\n",
        "    def forward(self, x, **kwargs):\n",
        "        res = x\n",
        "        x = self.fn(x, **kwargs)\n",
        "        x += res\n",
        "        return x"
      ]
    },
    {
      "cell_type": "code",
      "execution_count": 14,
      "metadata": {
        "colab": {
          "base_uri": "https://localhost:8080/"
        },
        "id": "KGiD8b02wkIY",
        "outputId": "7b31d014-7980-4328-ed69-5546c5cad448"
      },
      "outputs": [
        {
          "data": {
            "text/plain": [
              "torch.Size([1, 5, 128])"
            ]
          },
          "execution_count": 14,
          "metadata": {},
          "output_type": "execute_result"
        }
      ],
      "source": [
        "residual_att = ResidualAdd(Attention(dim=128, n_heads=4, dropout=0.))\n",
        "residual_att(torch.ones((1, 5, 128))).shape"
      ]
    },
    {
      "cell_type": "code",
      "execution_count": 15,
      "metadata": {
        "colab": {
          "base_uri": "https://localhost:8080/"
        },
        "id": "fMIStySywl19",
        "outputId": "bcdc22d9-949d-4e24-b3e2-aa6c3b874406"
      },
      "outputs": [
        {
          "name": "stdout",
          "output_type": "stream",
          "text": [
            "ViT(\n",
            "  (patch_embedding): PatchEmbedding(\n",
            "    (projection): Sequential(\n",
            "      (0): Rearrange('b c (h p1) (w p2) -> b (h w) (p1 p2 c)', p1=4, p2=4)\n",
            "      (1): Linear(in_features=48, out_features=32, bias=True)\n",
            "    )\n",
            "  )\n",
            "  (layers): ModuleList(\n",
            "    (0-5): 6 x Sequential(\n",
            "      (0): ResidualAdd(\n",
            "        (fn): PreNorm(\n",
            "          (norm): LayerNorm((32,), eps=1e-05, elementwise_affine=True)\n",
            "          (fn): Attention(\n",
            "            (att): MultiheadAttention(\n",
            "              (out_proj): NonDynamicallyQuantizableLinear(in_features=32, out_features=32, bias=True)\n",
            "            )\n",
            "            (q): Linear(in_features=32, out_features=32, bias=True)\n",
            "            (k): Linear(in_features=32, out_features=32, bias=True)\n",
            "            (v): Linear(in_features=32, out_features=32, bias=True)\n",
            "          )\n",
            "        )\n",
            "      )\n",
            "      (1): ResidualAdd(\n",
            "        (fn): PreNorm(\n",
            "          (norm): LayerNorm((32,), eps=1e-05, elementwise_affine=True)\n",
            "          (fn): FeedForward(\n",
            "            (0): Linear(in_features=32, out_features=32, bias=True)\n",
            "            (1): GELU(approximate='none')\n",
            "            (2): Dropout(p=0.1, inplace=False)\n",
            "            (3): Linear(in_features=32, out_features=32, bias=True)\n",
            "            (4): Dropout(p=0.1, inplace=False)\n",
            "          )\n",
            "        )\n",
            "      )\n",
            "    )\n",
            "  )\n",
            "  (head): Sequential(\n",
            "    (0): LayerNorm((32,), eps=1e-05, elementwise_affine=True)\n",
            "    (1): Linear(in_features=32, out_features=37, bias=True)\n",
            "  )\n",
            ")\n"
          ]
        }
      ],
      "source": [
        "from einops import repeat\n",
        "\n",
        "class ViT(nn.Module):\n",
        "    def __init__(self, ch=3, img_size=224, patch_size=16, emb_dim=128,\n",
        "                n_layers=6, out_dim=2, dropout=0.1, heads=2):\n",
        "        super(ViT, self).__init__()\n",
        "\n",
        "        # Attributes\n",
        "        self.channels = ch\n",
        "        self.height = img_size\n",
        "        self.width = img_size\n",
        "        self.patch_size = patch_size\n",
        "        self.n_layers = n_layers\n",
        "\n",
        "        # Patching\n",
        "        self.patch_embedding = PatchEmbedding(in_channels=ch,\n",
        "                                              patch_size=patch_size,\n",
        "                                              emb_size=emb_dim)\n",
        "        # Learnable params\n",
        "        num_patches = (img_size // patch_size) ** 2\n",
        "        self.pos_embedding = nn.Parameter(\n",
        "            torch.randn(1, num_patches + 1, emb_dim))\n",
        "        self.cls_token = nn.Parameter(torch.rand(1, 1, emb_dim))\n",
        "\n",
        "        # Transformer Encoder\n",
        "        self.layers = nn.ModuleList([])\n",
        "        for _ in range(n_layers):\n",
        "            transformer_block = nn.Sequential(\n",
        "                ResidualAdd(PreNorm(emb_dim, Attention(emb_dim, n_heads = heads, dropout = dropout))),\n",
        "                ResidualAdd(PreNorm(emb_dim, FeedForward(emb_dim, emb_dim, dropout = dropout))))\n",
        "            self.layers.append(transformer_block)\n",
        "\n",
        "        # Classification head\n",
        "        self.head = nn.Sequential(nn.LayerNorm(emb_dim), nn.Linear(emb_dim, out_dim))\n",
        "\n",
        "\n",
        "    def forward(self, img):\n",
        "        # Get patch embedding vectors\n",
        "        x = self.patch_embedding(img)\n",
        "        b, n, _ = x.shape\n",
        "\n",
        "        # Add cls token to inputs\n",
        "        cls_tokens = repeat(self.cls_token, '1 1 d -> b 1 d', b = b)\n",
        "        x = torch.cat([cls_tokens, x], dim=1)\n",
        "        x += self.pos_embedding[:, :(n + 1)]\n",
        "\n",
        "        # Transformer layers\n",
        "        for i in range(self.n_layers):\n",
        "            x = self.layers[i](x)\n",
        "\n",
        "        # Output based on classification token\n",
        "        return self.head(x[:, 0, :])\n",
        "\n",
        "\n",
        "model = ViT()\n",
        "print(model)"
      ]
    },
    {
      "cell_type": "code",
      "execution_count": 22,
      "metadata": {
        "colab": {
          "base_uri": "https://localhost:8080/"
        },
        "id": "3rLYujf4wnwN",
        "outputId": "59722358-425e-4cc2-adf0-ffa30f7b8c2f"
      },
      "outputs": [
        {
          "name": "stdout",
          "output_type": "stream",
          "text": [
            "126 15\n"
          ]
        }
      ],
      "source": [
        "from torch.utils.data import DataLoader\n",
        "from torch.utils.data import random_split\n",
        "\n",
        "train_split = int(0.9 * len(combined_dataset))\n",
        "print(train_split,len(combined_dataset)-train_split)\n",
        "train, test = random_split(combined_dataset, [train_split, len(combined_dataset) - train_split])\n",
        "\n",
        "train_dataloader = DataLoader(train, batch_size=32, shuffle=True)\n",
        "test_dataloader = DataLoader(test, batch_size=32, shuffle=True)"
      ]
    },
    {
      "cell_type": "code",
      "execution_count": 23,
      "metadata": {
        "colab": {
          "base_uri": "https://localhost:8080/"
        },
        "id": "stV5wxkJwqQk",
        "outputId": "825983b3-4b2e-4239-8c71-cccd4b41e0d7"
      },
      "outputs": [
        {
          "name": "stdout",
          "output_type": "stream",
          "text": [
            ">>> Epoch 0 train loss:  3.5315473675727844\n",
            ">>> Epoch 0 test loss:  2.7210910320281982\n",
            ">>> Epoch 25 train loss:  0.7604412138462067\n",
            ">>> Epoch 25 test loss:  0.7540749907493591\n",
            ">>> Epoch 50 train loss:  0.7139123678207397\n",
            ">>> Epoch 50 test loss:  0.7178663611412048\n",
            ">>> Epoch 75 train loss:  0.7058270871639252\n",
            ">>> Epoch 75 test loss:  0.7101490497589111\n",
            ">>> Epoch 100 train loss:  0.6998050212860107\n",
            ">>> Epoch 100 test loss:  0.6926615238189697\n"
          ]
        }
      ],
      "source": [
        "import torch.optim as optim\n",
        "import numpy as np\n",
        "\n",
        "device = \"cpu\"\n",
        "model = ViT().to(device)\n",
        "optimizer = optim.AdamW(model.parameters(), lr=0.001)\n",
        "criterion = nn.CrossEntropyLoss()\n",
        "\n",
        "for epoch in range(101):\n",
        "    epoch_losses = []\n",
        "    model.train()\n",
        "    for step, (inputs, labels) in enumerate(train_dataloader):\n",
        "        inputs, labels = inputs.to(device), labels.to(device)\n",
        "        optimizer.zero_grad()\n",
        "        outputs = model(inputs)\n",
        "        loss = criterion(outputs, labels)\n",
        "        loss.backward()\n",
        "        optimizer.step()\n",
        "        epoch_losses.append(loss.item())\n",
        "    if epoch % 2 == 0:\n",
        "        print(f\">>> Epoch {epoch} train loss: \", np.mean(epoch_losses))\n",
        "        epoch_losses = []\n",
        "        for step, (inputs, labels) in enumerate(test_dataloader):\n",
        "            inputs, labels = inputs.to(device), labels.to(device)\n",
        "            outputs = model(inputs)\n",
        "            loss = criterion(outputs, labels)\n",
        "            epoch_losses.append(loss.item())\n",
        "        print(f\">>> Epoch {epoch} test loss: \", np.mean(epoch_losses))"
      ]
    },
    {
      "cell_type": "code",
      "execution_count": 24,
      "metadata": {
        "colab": {
          "base_uri": "https://localhost:8080/"
        },
        "id": "hk3m3N86wulU",
        "outputId": "dc17144b-7ed8-4b08-e804-191bceafd9a0"
      },
      "outputs": [
        {
          "name": "stdout",
          "output_type": "stream",
          "text": [
            "tensor([1, 0, 0, 1, 1, 1, 0, 0, 0, 1, 0, 1, 0, 0, 0])\n",
            "tensor([0, 0, 0, 0, 1, 1, 0, 1, 1, 1, 0, 1, 1, 0, 0])\n",
            "Accuracy: 66.67%\n"
          ]
        }
      ],
      "source": [
        "inputs, labels = next(iter(test_dataloader))\n",
        "inputs, labels = inputs.to(device), labels.to(device)\n",
        "outputs = model(inputs)\n",
        "# Get predicted classes\n",
        "predicted_classes = outputs.argmax(dim=-1)\n",
        "\n",
        "# Compare predicted classes with actual classes\n",
        "correct_predictions = (predicted_classes == labels).sum().item()\n",
        "print(predicted_classes)\n",
        "print(labels)\n",
        "# Calculate accuracy\n",
        "accuracy = (correct_predictions / len(labels)) * 100\n",
        "\n",
        "print(\"Accuracy: {:.2f}%\".format(accuracy))"
      ]
    },
    {
      "cell_type": "code",
      "execution_count": 25,
      "metadata": {
        "id": "4ZSAV81JzKbY"
      },
      "outputs": [],
      "source": [
        "torch.save(model.state_dict(), 'vit_model.pth')"
      ]
    },
    {
      "cell_type": "code",
      "execution_count": 26,
      "metadata": {
        "colab": {
          "base_uri": "https://localhost:8080/"
        },
        "id": "Rfe1qmDp4BEG",
        "outputId": "cf926d09-9286-4148-8bd3-852cb6bf68cc"
      },
      "outputs": [
        {
          "name": "stdout",
          "output_type": "stream",
          "text": [
            "AUC Score: 0.6607142857142857\n"
          ]
        }
      ],
      "source": [
        "from sklearn.metrics import roc_auc_score\n",
        "auc_score = roc_auc_score(labels,predicted_classes)\n",
        "\n",
        "print(\"AUC Score:\", auc_score)"
      ]
    },
    {
      "cell_type": "code",
      "execution_count": 29,
      "metadata": {
        "colab": {
          "base_uri": "https://localhost:8080/",
          "height": 564
        },
        "id": "OqTDDeb1657i",
        "outputId": "ae22a733-e5ce-4359-8792-b72358930054"
      },
      "outputs": [
        {
          "data": {
            "image/png": "[encoded data removed]",
            "text/plain": [
              "<Figure size 800x600 with 1 Axes>"
            ]
          },
          "metadata": {},
          "output_type": "display_data"
        }
      ],
      "source": [
        "from sklearn.metrics import roc_curve, auc\n",
        "import matplotlib.pyplot as plt\n",
        "fpr, tpr, thresholds = roc_curve(labels, predicted_classes)\n",
        "\n",
        "# Compute AUC score\n",
        "auc_score = auc(fpr, tpr)\n",
        "\n",
        "# Plot ROC curve\n",
        "plt.figure(figsize=(8, 6))\n",
        "plt.plot(fpr, tpr, color='blue', lw=2, label='ROC curve (AUC = %0.2f)' % auc_score)\n",
        "plt.plot([0, 1], [0, 1], color='gray', linestyle='--', lw=2)\n",
        "plt.xlim([0.0, 1.0])\n",
        "plt.ylim([0.0, 1.05])\n",
        "plt.xlabel('False Positive Rate')\n",
        "plt.ylabel('True Positive Rate')\n",
        "plt.title('Receiver Operating Characteristic (ROC) Curve')\n",
        "plt.legend(loc='lower right')\n",
        "plt.show()"
      ]
    },
    {
      "cell_type": "code",
      "execution_count": null,
      "metadata": {
        "id": "rh_alsMXAJT1"
      },
      "outputs": [],
      "source": []
    }
  ],
  "metadata": {
    "accelerator": "GPU",
    "colab": {
      "gpuType": "T4",
      "provenance": []
    },
    "kernelspec": {
      "display_name": "Python 3",
      "name": "python3"
    },
    "language_info": {
      "name": "python"
    }
  },
  "nbformat": 4,
  "nbformat_minor": 0
}
